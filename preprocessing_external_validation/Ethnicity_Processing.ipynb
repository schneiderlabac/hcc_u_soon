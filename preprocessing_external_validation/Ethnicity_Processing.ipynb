{
 "cells": [
  {
   "cell_type": "code",
   "execution_count": null,
   "id": "a10171c0",
   "metadata": {
    "vscode": {
     "languageId": "r"
    }
   },
   "outputs": [],
   "source": [
    "library(tidyverse)\n",
    "library(bigrquery)\n",
    "library(writexl)\n",
    "library(readxl)\n",
    "library(ggplot2)\n",
    "library(scales)  # For comma formatting\n",
    "library(data.table)\n",
    "library(dplyr)\n",
    "library(ggplot2)\n",
    "library(knitr)\n",
    "library(readr)\n",
    "library(stringr)"
   ]
  },
  {
   "cell_type": "code",
   "execution_count": null,
   "id": "452172e8",
   "metadata": {
    "vscode": {
     "languageId": "r"
    }
   },
   "outputs": [],
   "source": [
    "# Function to summarize a column\n",
    "summarize_column <- function(df, column_name) {\n",
    "  df %>%\n",
    "    count(.data[[column_name]]) %>%\n",
    "    mutate(proportion = n / sum(n)) %>%\n",
    "    arrange(desc(n)) %>%\n",
    "    rename(\n",
    "      Count.Var1 = .data[[column_name]],\n",
    "      Count.Freq = n,\n",
    "      Proportion.Freq = proportion\n",
    "    ) %>%\n",
    "    mutate(Proportion.Var1 = Count.Var1)\n",
    "}\n",
    "\n",
    "# Function to merge categories for race_ethnicity column\n",
    "merge_categories <- function(df) {\n",
    "  df %>%\n",
    "    mutate(race_ethnicity = case_when(\n",
    "      ethnicity == 'Hispanic or Latino' ~ 'Latinx',\n",
    "      race %in% c('I prefer not to answer', 'None of these', 'PMI: Skip', 'None Indicated') ~ 'No answer',\n",
    "      race == 'Black or African American' ~ 'Black / African\\nAmerican',\n",
    "      race == 'More than one population' ~ 'More than one',\n",
    "      race == 'Middle Eastern or North African' ~ 'Middle Eastern',\n",
    "      race == 'Native Hawaiian or Other Pacific Islander' ~ 'Pacific Islander',\n",
    "      TRUE ~ race\n",
    "    ))\n",
    "}\n",
    "\n",
    "# Main function to process and summarize data\n",
    "process_and_summarize <- function(df) {\n",
    "  # Summarize race\n",
    "  race_summary <- summarize_column(df, \"race\")\n",
    "  \n",
    "  # Summarize ethnicity\n",
    "  ethnicity_summary <- summarize_column(df, \"ethnicity\")\n",
    "  \n",
    "  # Merge categories and summarize race_ethnicity\n",
    "  df_merged <- merge_categories(df)\n",
    "  race_ethnicity_summary <- summarize_column(df_merged, \"race_ethnicity\")\n",
    "  \n",
    "  # Return a list of all summaries\n",
    "  list(\n",
    "    race = race_summary,\n",
    "    ethnicity = ethnicity_summary,\n",
    "    race_ethnicity = race_ethnicity_summary\n",
    "  )\n",
    "}\n",
    "\n",
    "# Function to read and process data\n",
    "read_and_process_data <- function(path) {\n",
    "  # Read the data\n",
    "  df <- read_bq_export_from_workspace_bucket(path)\n",
    "  \n",
    "  # Process and summarize\n",
    "  summaries <- process_and_summarize(df)\n",
    "  \n",
    "  # Return both the dataframe and summaries\n",
    "  list(\n",
    "    data = df,\n",
    "    summaries = summaries\n",
    "  )\n",
    "}"
   ]
  },
  {
   "cell_type": "code",
   "execution_count": null,
   "id": "f5ea284c",
   "metadata": {
    "vscode": {
     "languageId": "r"
    }
   },
   "outputs": [],
   "source": [
    "\n"
   ]
  },
  {
   "cell_type": "code",
   "execution_count": null,
   "id": "5058556f",
   "metadata": {
    "vscode": {
     "languageId": "r"
    }
   },
   "outputs": [],
   "source": [
    "# Summary for \n",
    "person_03039562_path <- \"gs://fc-secure-7ce90512-cbaf-4591-985d-a48ed28a7fda/bq_exports/janclusmann@researchallofus.org/20240730/person_03039562/person_03039562_*.csv\"\n",
    "\n",
    "\n",
    "# Read and process the main dataset\n",
    "result <- read_and_process_data(person_03039562_path)\n",
    "result$data <- result$data %>% rename(eid=person_id)\n",
    "\n",
    "# Print summaries\n",
    "print(\"Race Summary:\")\n",
    "print(result$summaries$race)\n",
    "\n",
    "print(\"Ethnicity Summary:\")\n",
    "print(result$summaries$ethnicity)\n",
    "\n",
    "print(\"Race-Ethnicity Summary:\")\n",
    "print(result$summaries$race_ethnicity)\n",
    "\n",
    "write_xlsx(result$summaries$race_ethnicity, \"HCC/Ethnicity_counts_all.xlsx\")"
   ]
  },
  {
   "cell_type": "code",
   "execution_count": null,
   "id": "d9fcf8b8",
   "metadata": {
    "vscode": {
     "languageId": "r"
    }
   },
   "outputs": [],
   "source": [
    "# statistics for positive cases only\n",
    "df_y <- read_csv(\"HCC/y_outer_basic_all.csv\")\n",
    "\n",
    "filtered_df <- result$data %>% inner_join(df_y %>% filter(status == 1), by = \"eid\")\n",
    "filtered_summaries <- process_and_summarize(filtered_df)\n",
    "filtered_summaries$race_ethnicity\n",
    "\n",
    "write_xlsx(filtered_summaries$race_ethnicity, \"HCC/Ethnicity_counts_hcc.xlsx\")"
   ]
  }
 ],
 "metadata": {
  "kernelspec": {
   "display_name": "R",
   "language": "R",
   "name": "ir"
  },
  "language_info": {
   "codemirror_mode": "r",
   "file_extension": ".r",
   "mimetype": "text/x-r-source",
   "name": "R",
   "pygments_lexer": "r",
   "version": "4.4.0"
  },
  "toc": {
   "base_numbering": 1,
   "nav_menu": {},
   "number_sections": true,
   "sideBar": true,
   "skip_h1_title": false,
   "title_cell": "Table of Contents",
   "title_sidebar": "Contents",
   "toc_cell": false,
   "toc_position": {},
   "toc_section_display": true,
   "toc_window_display": false
  }
 },
 "nbformat": 4,
 "nbformat_minor": 5
}
