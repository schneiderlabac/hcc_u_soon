{
 "cells": [
  {
   "cell_type": "markdown",
   "metadata": {},
   "source": [
    "# Common trunk: Violin Plots and Precision-Recall Curves"
   ]
  },
  {
   "cell_type": "markdown",
   "metadata": {},
   "source": [
    "## Packages and functions"
   ]
  },
  {
   "cell_type": "code",
   "execution_count": null,
   "metadata": {},
   "outputs": [],
   "source": [
    "!pip install pandas==2.2.2\n",
    "!pip install numpy==1.26.4\n",
    "!pip install matplotlib==3.6.3\n",
    "!pip install seaborn==0.13.2\n",
    "!pip install scipy==1.13.1\n",
    "!pip install scikit-learn==1.4.2"
   ]
  },
  {
   "cell_type": "code",
   "execution_count": null,
   "metadata": {},
   "outputs": [],
   "source": [
    "import pandas as pd\n",
    "import numpy as np\n",
    "import matplotlib.pyplot as plt\n",
    "import seaborn as sns\n",
    "import matplotlib.patches as patches\n",
    "import matplotlib.colors as mcolors\n",
    "import os\n",
    "import time\n",
    "from scipy.stats import sem, t\n",
    "from sklearn.metrics import precision_recall_curve, auc, PrecisionRecallDisplay\n",
    "import matplotlib.font_manager as fm\n",
    "\n",
    "#######################################################################################################################################\n",
    "# Parameters for the plotting:\n",
    "plt.rcParams['font.family'] = 'sans-serif' \n",
    "plt.rcParams['font.sans-serif'] = ['DejaVu Sans'] #change font to a known standard font\n",
    "plt.rcParams[\"font.size\"] = 16\n",
    "plt.rcParams[\"axes.labelsize\"] = 16\n",
    "plt.rcParams[\"xtick.labelsize\"] = 16\n",
    "plt.rcParams[\"ytick.labelsize\"] = 16\n",
    "plt.rcParams[\"legend.fontsize\"] = 16\n",
    "plt.rcParams[\"figure.titlesize\"] = 14\n",
    "\n",
    "\n",
    "\n",
    "#######################################################################################################################################\n",
    "\n",
    "def plot_colorbar(scenario_colors, alpha=1.0):\n",
    "    \"\"\"\n",
    "    Plots a colorbar based on the given dictionary of scenario colors.\n",
    "\n",
    "    Parameters:\n",
    "    - scenario_colors (dict): A dictionary where keys are scenario labels and values are hex color codes.\n",
    "\n",
    "    Example:\n",
    "    plot_colorbar({\n",
    "        'A': '#36617B',  # Color for scenario A\n",
    "        'B': '#4993AA',  # Color for scenario B\n",
    "        'C': '#e3c983',  # Color for scenario C\n",
    "        'D': '#ECB354',  # Color for scenario D\n",
    "        'E': '#B95224',  # Color for scenario E\n",
    "    })\n",
    "    \"\"\"\n",
    "    # Create a figure and axis\n",
    "    fig, ax = plt.subplots(figsize=(5.5, 1.1))  # Size corresponding to 275x55 pixels\n",
    "    # Iterate over the items in the dictionary to create colored rectangles and labels\n",
    "    for i, (label, color) in enumerate(scenario_colors.items()):\n",
    "        # Draw the colored rectangles\n",
    "        rect = patches.Rectangle((i * 55, 0), 55, 55, linewidth=2, edgecolor='white', facecolor=color)\n",
    "        ax.add_patch(rect)\n",
    "        # Add labels below each rectangle\n",
    "        ax.text(i * 55 + 27.5, -10, label, ha='center', va='top', fontsize=10, color='black')\n",
    "\n",
    "    # Set the limits and turn off the axes\n",
    "    ax.set_xlim(0, 275)\n",
    "    ax.set_ylim(-20, 55)\n",
    "    ax.axis('off')\n",
    "    plt.show()\n",
    "\n",
    "# set the seaborn parameters\n",
    "sns.set_theme(context='poster',style='white')\n",
    "sns.set_palette('bright')\n",
    "\n",
    "###########################################################################################################################################################################################################################################\n",
    "\n",
    "import pandas as pd\n",
    "import numpy as np\n",
    "import matplotlib.pyplot as plt\n",
    "import seaborn as sns\n",
    "import matplotlib.patches as patches\n",
    "import os\n",
    "from scipy.stats import sem, t\n",
    "\n",
    "def create_violin_plots(dataframes, keys_ordered, color_dict, title_dict, display, title_display, gap, inner_detail=\"quart\", n_rows=1, n_cols=5, split_by_sex=False, hue_column='true', font_size=24):\n",
    "    \"\"\"\n",
    "    Create violin plots for the given dataframes with custom settings.\n",
    "\n",
    "    Parameters:\n",
    "    - dataframes (dict): Dictionary of DataFrames keyed by identifiers.\n",
    "    - keys_ordered (list): List of keys to order the plots.\n",
    "    - color_dict (dict): Dictionary mapping keys to colors.\n",
    "    - title_dict (dict): Dictionary mapping keys to titles for each subplot.\n",
    "    - display (str): Label to describe the content or type of the plot for saving.\n",
    "    - n_rows (int): Number of rows in the subplot grid.\n",
    "    - split_by_sex (bool): Whether to split the data by sex and create separate plots for each.\n",
    "\n",
    "    Returns:\n",
    "    - fig (Figure): The figure object containing the plots.\n",
    "    - axes (array): Array of Axes objects containing the subplots.\n",
    "    \"\"\"\n",
    "    global fig_path\n",
    "\n",
    "    fig, axes = plt.subplots(nrows=n_rows, ncols=n_cols, sharey=True, figsize=(n_cols * 2, n_rows * 10))\n",
    "    plt.subplots_adjust(wspace=0, hspace=0.1)\n",
    "\n",
    "    if n_rows == 1:\n",
    "        axes = np.array([axes])\n",
    "\n",
    "    ax_rav = axes.ravel()\n",
    "\n",
    "    for key, ax in zip(keys_ordered, ax_rav):\n",
    "        df = dataframes[key].copy()\n",
    "        df['ones'] = key\n",
    "        color = color_dict[key]\n",
    "        print(f\"\\nDataframe: {key}\")\n",
    "        print(df['SEX'].value_counts())\n",
    "        print(df.groupby(['SEX', hue_column]).size())\n",
    "\n",
    "        palette = {0: adjust_alpha(color, 0.5), 1: adjust_alpha(color, 1)}\n",
    "\n",
    "        if inner_detail == \"quart\":\n",
    "            inner = \"quart\"\n",
    "        elif inner_detail == \"ci\":\n",
    "            inner = None  # No inner lines; we will calculate CIs manually\n",
    "\n",
    "        if split_by_sex:\n",
    "            for sex in df['SEX'].unique():\n",
    "                palette = {0: adjust_alpha(color, 0.7), 1: adjust_alpha(color, 0.7)}\n",
    "                df_sex = df[df['SEX'] == sex]\n",
    "                sns.violinplot(data=df_sex, y=\"proba\", x=\"ones\", hue=hue_column, split=True, dodge=\"auto\", gap=gap, inner=None, ax=ax, #hue_column indicates the column to choose for split of half-violins\n",
    "                               linecolor='white', linewidth=2, palette=palette, saturation=1)\n",
    "                # Adjusting the style for the specific sex\n",
    "                if sex == 'Female':\n",
    "                    for i, artist in enumerate(ax.collections):\n",
    "\n",
    "                        artist.set_hatch('////')\n",
    "            ax.set_title(title_dict[key], fontsize=24, pad=20)\n",
    "        else:\n",
    "            sns.violinplot(data=df, y=\"proba\", x=\"ones\", hue=hue_column, split=True, dodge=\"auto\", gap=gap, inner=inner, ax=ax,\n",
    "                           linecolor='white', linewidth=4, palette=palette, saturation=1)\n",
    "            ax.set_title(title_dict[key], fontsize=font_size, pad=15, rotation=45, horizontalalignment='left')\n",
    "\n",
    "        ax.legend().set_visible(False)\n",
    "        ax.set_xlabel('')\n",
    "        ax.set_xticks([])\n",
    "        ax.set_ylabel('', fontsize=font_size+4)\n",
    "        ax.set_ylim((0, 1))\n",
    "        ax.tick_params(axis='y', labelsize=font_size+4)\n",
    "        ax.spines['left'].set_visible(False)\n",
    "        ax.spines['right'].set_visible(False)\n",
    "        ax.spines['top'].set_visible(True)\n",
    "\n",
    "    for ax in ax_rav:\n",
    "        for c in ax.collections:\n",
    "            c.set_edgecolor('face')\n",
    "            c.set_linewidth(4)\n",
    "\n",
    "    for i in range(n_rows):\n",
    "        axes[i, 0].set_ylabel('Predicted Probability', fontsize=font_size+4)\n",
    "        axes[i, 0].spines['left'].set_visible(True)\n",
    "        axes[i, -1].spines['right'].set_visible(True)\n",
    "\n",
    "    if split_by_sex:\n",
    "        custom_lines = [\n",
    "            patches.Patch(facecolor=adjust_alpha('#000000', 1.0), edgecolor='white', linewidth=2, label='Male'),\n",
    "            patches.Patch(facecolor=adjust_alpha('#000000', 0.7), edgecolor='white', linewidth=2, hatch='////', label='Female')\n",
    "        ]\n",
    "        fig.legend(handles=custom_lines, loc='lower left', bbox_to_anchor=(0.13, 0.88),  fontsize=font_size, title=None, frameon=False)\n",
    "\n",
    "\n",
    "    n_cases = dataframes[keys_ordered[0]][\"true\"].sum()\n",
    "    n_controls = len(dataframes[keys_ordered[0]]) - n_cases\n",
    "\n",
    "    if not split_by_sex:\n",
    "        tn_patch = patches.Patch(facecolor=adjust_alpha('#808080', 0.3), edgecolor=adjust_alpha('#808080', 1), linewidth=3, label=f'Controls (n={n_controls})')  # Grey color\n",
    "        tp_patch = patches.Patch(facecolor=adjust_alpha('#808080', 1), edgecolor=adjust_alpha('#808080', 1), linewidth=3, label=f'Cases (n={n_cases})')\n",
    "        fig.legend(handles=[tn_patch, tp_patch], bbox_to_anchor=(0.13, 0.1), loc='lower left', fontsize=font_size-3, title=None, frameon=False)\n",
    "\n",
    "    fig.text(0.5, 0.05, title_display, ha='center', fontsize=font_size+6)\n",
    "\n",
    "    svg_path = os.path.join(fig_path, f\"Violins_{display}.svg\")\n",
    "    fig.savefig(svg_path, format='svg', bbox_inches='tight', transparent=True)\n",
    "\n",
    "    return fig, axes\n",
    "\n",
    "\n",
    "#######################################################################################################################################\n",
    "\n",
    "def adjust_alpha(hex_color, alpha=1.0):\n",
    "    \"\"\" Adjust the alpha value of a hex color. \"\"\"\n",
    "    import matplotlib.colors as mcolors\n",
    "    color_rgba = mcolors.to_rgba(hex_color, alpha)\n",
    "    return color_rgba\n",
    "\n",
    "#######################################################################################################################################\n",
    "def adjust_background():\n",
    "    paths = plt.gca().collections\n",
    "    for path in paths:\n",
    "        verts = path.get_offsets()\n",
    "        x = [vert[0] for vert in verts]\n",
    "        y = [vert[1] for vert in verts]\n",
    "\n",
    "        # Create a patch filled with a pattern\n",
    "        poly = patches.Polygon(np.column_stack((x, y)), closed=True, edgecolor='none', facecolor='lightgray', hatch='\\\\')\n",
    "\n",
    "        # Add the patch to the plot\n",
    "        plt.gca().add_patch(poly)\n"
   ]
  },
  {
   "cell_type": "markdown",
   "metadata": {},
   "source": [
    "## Data Import"
   ]
  },
  {
   "cell_type": "code",
   "execution_count": null,
   "metadata": {},
   "outputs": [],
   "source": [
    "path = \"/home/jupyter/workspaces/machinelearningforlivercancerriskprediction\"\n",
    "fig_path = f\"{path}/HCC/visuals\"\n",
    "\n",
    "\n",
    "# get the data from the combined\n",
    "excel_file = pd.ExcelFile(path+'/combined_output/val/Prediction_values_combined.xlsx')\n",
    "sheet_names = excel_file.sheet_names\n",
    "\n",
    "# Create DataFrames\n",
    "dataframes = {}\n",
    "for sheet_name in sheet_names:\n",
    "    dataframes[sheet_name] = pd.read_excel(excel_file, sheet_name)\n",
    "    print(f\"Sheet {sheet_name} read and saved to dataframes dictionary\")\n",
    "dataframes.pop('Sheet')\n",
    "# dataframes.pop([i for i in list(dataframes.keys()) if str(i).endswith('Model_D') or str(i).endswith('Demographics')][0])\n",
    "dataframes.keys()\n",
    "\n",
    "for key in dataframes: #Convert true cancerreg columns to boolean\n",
    "    if 'true_cancerreg' in dataframes[key].columns:\n",
    "        dataframes[key]['true_cancerreg'] = dataframes[key]['true_cancerreg'].astype(bool)\n",
    "\n",
    "\n",
    "df_nan = pd.read_excel(path+\"/HCC/df_nan.xlsx\")\n",
    "df_covariates = pd.read_csv(path+\"/HCC/HCC_covariates_1.7.txt\", sep=\"\\t\")\n",
    "df_covariates = df_covariates[df_covariates['person_id'].isin(df_nan['person_id'])]\n",
    "df_covariates = df_covariates.rename(columns={\"person_id\": \"eid\"})\n",
    "df_covariates = df_covariates[[\"eid\", \"SEX\"]]\n",
    "df_covariates\n",
    "\n",
    "df_ethnicity_boolean = pd.read_csv(os.path.join(path, \"HCC/df_ethnicity_boolean.csv\")) #Load ethnicity white/non-white"
   ]
  },
  {
   "cell_type": "code",
   "execution_count": null,
   "metadata": {},
   "outputs": [],
   "source": [
    "df_nan = pd.read_excel(path+\"/HCC/df_nan.xlsx\")\n",
    "df_covariates = pd.read_csv(path+\"/HCC/HCC_covariates_1.7.txt\", sep=\"\\t\")\n",
    "df_covariates = df_covariates[df_covariates['person_id'].isin(df_nan['person_id'])]\n",
    "df_covariates = df_covariates.rename(columns={\"person_id\": \"eid\"})\n",
    "df_covariates"
   ]
  },
  {
   "cell_type": "code",
   "execution_count": null,
   "metadata": {},
   "outputs": [],
   "source": [
    "dataframes[\"all_Model_AMAP-RFC\"]"
   ]
  },
  {
   "cell_type": "code",
   "execution_count": null,
   "metadata": {},
   "outputs": [],
   "source": [
    "for key in dataframes:\n",
    "     dataframes[key] = pd.merge(dataframes[key], df_covariates, on='eid')\n",
    "     dataframes[key] = pd.merge(dataframes[key], df_ethnicity_boolean, on= 'eid')\n",
    "        \n",
    "        \n"
   ]
  },
  {
   "cell_type": "code",
   "execution_count": null,
   "metadata": {},
   "outputs": [],
   "source": [
    "# Import AMAP Scores and append them to dataframes dictionary\n",
    "amap_all=pd.read_csv(path+'/HCC/df_amap.csv')\n",
    "amap_all[\"aMAP\"] = amap_all[\"aMAP\"].apply(lambda x: x if 0 <= x <= 1 else pd.NA)\n",
    "amap_all = amap_all.dropna()\n",
    "amap_all['aMAP'] = pd.to_numeric(amap_all['aMAP'], errors='coerce')\n",
    "amap_all['status'] = pd.to_numeric(amap_all['status'], errors='coerce')\n",
    "\n",
    "amap_all.rename(columns={'aMAP': 'proba', 'status': 'true'}, inplace=True)\n",
    "\n",
    "dataframes['all_aMAP'] = amap_all[['proba', 'true', \"SEX\"]]\n",
    "\n",
    "amap_all\n",
    "\n",
    "# amap_par=pd.read_csv(path+'/Models/df_amap_par.csv')\n",
    "# amap_par.rename(columns={'aMAP': 'proba', 'status': 'true', 'status_cancerreg' : 'true_cancerreg', 'gender' : \"SEX\"}, inplace=True)\n",
    "# dataframes['par_aMAP'] = amap_par[['proba', 'true', 'true_cancerreg', \"SEX\"]]"
   ]
  },
  {
   "cell_type": "code",
   "execution_count": null,
   "metadata": {},
   "outputs": [],
   "source": [
    "# color_map = {\n",
    "#     \"df_covariates\": (0.21176, 0.38039, 0.48235),\n",
    "#     \"df_diagnosis\": (0.28627, 0.57647, 0.66667),\n",
    "#     \"df_blood\": (0.93725, 0.85490, 0.67451),\n",
    "#     \"df_snp\": (0.92549, 0.70196, 0.32941),\n",
    "#     \"df_metabolomics\": (0.72549, 0.32157, 0.14118)\n",
    "# }\n",
    "\n",
    "color_map = {\n",
    "    \"df_covariates\": (0.28627450980392155, 0.5843137254901961, 0.6784313725490196),  # #4995AD\n",
    "    \"df_diagnosis\": (0.2196078431372549, 0.3333333333333333, 0.4745098039215686),  # #385579\n",
    "    \"df_blood\": (0.7568627450980392, 0.21176470588235294, 0.09019607843137255),  # #C13617\n",
    "    \"df_snp\": (0.9411764705882353, 0.5647058823529412, 0.24313725490196078),  # #F0903E\n",
    "    \"df_metabolomics\": (0.9411764705882353, 0.7843137254901961, 0.4470588235294118),  # #F0C872\n",
    "}\n",
    "\n",
    "\n",
    "\n",
    "\n",
    "\n",
    "\n",
    "plot_colorbar(color_map)"
   ]
  },
  {
   "cell_type": "code",
   "execution_count": null,
   "metadata": {},
   "outputs": [],
   "source": [
    "def summarize_dataframes(dataframes_dict):\n",
    "    summary = {}\n",
    "    for key, df in dataframes_dict.items():\n",
    "        summary[key] = {\n",
    "            \"shape\": df.shape,\n",
    "            \"columns\": df.columns.tolist(),\n",
    "            \"dtypes\": df.dtypes.to_dict(),\n",
    "            \"non_null_counts\": df.count().to_dict(),\n",
    "            \"numeric_summary\": df.describe().to_dict() if df.select_dtypes(include=[np.number]).columns.any() else None\n",
    "        }\n",
    "        \n",
    "        # Check for 'proba' and 'true' columns specifically\n",
    "        if 'proba' in df.columns:\n",
    "            summary[key][\"proba_range\"] = (df['proba'].min(), df['proba'].max())\n",
    "        if 'true' in df.columns:\n",
    "            summary[key][\"true_value_counts\"] = df['true'].value_counts().to_dict()\n",
    "        \n",
    "    return summary\n",
    "\n",
    "# Use the function to summarize your dataframes\n",
    "dataframes_summary = summarize_dataframes(dataframes)\n",
    "\n",
    "# Print the summary\n",
    "for key, summary in dataframes_summary.items():\n",
    "    print(f\"\\nSummary for {key}:\")\n",
    "    print(f\"Shape: {summary['shape']}\")\n",
    "    print(f\"Columns: {summary['columns']}\")\n",
    "    print(f\"Data types: {summary['dtypes']}\")\n",
    "    print(f\"Non-null counts: {summary['non_null_counts']}\")\n",
    "    if 'proba' in summary:\n",
    "        print(f\"Proba range: {summary['proba_range']}\")\n",
    "    if 'true' in summary:\n",
    "        print(f\"True value counts: {summary['true_value_counts']}\")\n",
    "    print(\"\\n\" + \"-\"*50)\n"
   ]
  },
  {
   "cell_type": "markdown",
   "metadata": {},
   "source": [
    "# Violins"
   ]
  },
  {
   "cell_type": "markdown",
   "metadata": {
    "heading_collapsed": true
   },
   "source": [
    "## All Models \"All\""
   ]
  },
  {
   "cell_type": "code",
   "execution_count": null,
   "metadata": {
    "hidden": true
   },
   "outputs": [],
   "source": [
    "keys_ordered_all=['all_Model_Demographics', 'all_Model_Diagnosis', 'all_Model_Blood', 'all_Model_SNP', 'all_Model_Metabolomics', 'all_Model_A', 'all_Model_B', 'all_Model_C','all_Model_D', 'all_Model_E',]\n",
    "color_dict_all={'all_Model_A'                   :color_map[\"df_covariates\"],\n",
    "            'all_Model_B'                   :color_map['df_diagnosis'],\n",
    "            'all_Model_C'                   :color_map[\"df_blood\"],\n",
    "            'all_Model_D'                   :color_map[\"df_snp\"],\n",
    "            'all_Model_E'                   :color_map['df_metabolomics'],\n",
    "\n",
    "\n",
    "            'all_Model_Demographics'        :color_map[\"df_covariates\"],\n",
    "            'all_Model_Diagnosis'          :color_map[\"df_diagnosis\"],\n",
    "            'all_Model_Blood'               :color_map[\"df_blood\"],\n",
    "            'all_Model_SNP'                 :color_map['df_snp'],\n",
    "            'all_Model_Metabolomics'        :color_map['df_metabolomics']}\n",
    "\n",
    "title_dict_all={'all_Model_A'                   :'Model A',\n",
    "            'all_Model_B'                   :'Model B',\n",
    "            'all_Model_C'                   :'Model C',\n",
    "            'all_Model_D'                   :'Model D',\n",
    "            'all_Model_E'                   :'Model E',\n",
    "\n",
    "\n",
    "            'all_Model_Demographics'        :'Demographics',\n",
    "            'all_Model_Diagnosis'          :'Diagnosis',\n",
    "            'all_Model_Blood'               :'Blood',\n",
    "            'all_Model_SNP'                 :'Genomics',\n",
    "            'all_Model_Metabolomics'        :'Metabolomics'}\n",
    "\n",
    "create_violin_plots(dataframes=dataframes, keys_ordered=keys_ordered_all, color_dict=color_dict_all, title_dict=title_dict_all, display=\"all\", title_display=\"All\", inner_detail=\"quart\", n_cols=10, gap=0, hue_column=\"true_cancerreg\")"
   ]
  },
  {
   "cell_type": "markdown",
   "metadata": {
    "heading_collapsed": true
   },
   "source": [
    "## All only incremental models"
   ]
  },
  {
   "cell_type": "code",
   "execution_count": null,
   "metadata": {
    "hidden": true
   },
   "outputs": [],
   "source": [
    "keys_ordered_all=['all_Model_A', 'all_Model_B', 'all_Model_C','all_Model_D', 'all_Model_E',]\n",
    "color_dict_all={'all_Model_A'                   :color_map[\"df_covariates\"],\n",
    "            'all_Model_B'                   :color_map['df_diagnosis'],\n",
    "            'all_Model_C'                   :color_map[\"df_blood\"],\n",
    "            'all_Model_D'                   :color_map[\"df_snp\"],\n",
    "            'all_Model_E'                   :color_map['df_metabolomics'],}\n",
    "\n",
    "\n",
    "title_dict_all={'all_Model_A'                   :'Model A',\n",
    "            'all_Model_B'                   :'Model B',\n",
    "            'all_Model_C'                   :'Model C',\n",
    "            'all_Model_D'                   :'Model D',\n",
    "            'all_Model_E'                   :'Model E',}\n",
    "\n",
    "create_violin_plots(dataframes=dataframes, keys_ordered=keys_ordered_all, color_dict=color_dict_all, title_dict=title_dict_all, display=\"all_inc\", title_display=\"All\", inner_detail=\"quart\", n_cols=5, gap=0, split_by_sex=False, hue_column=\"true_cancerreg\")"
   ]
  },
  {
   "cell_type": "markdown",
   "metadata": {
    "heading_collapsed": true
   },
   "source": [
    "## All strat. sex"
   ]
  },
  {
   "cell_type": "code",
   "execution_count": null,
   "metadata": {
    "hidden": true
   },
   "outputs": [],
   "source": [
    "keys_ordered_all=['all_Model_A', 'all_Model_B', 'all_Model_C','all_Model_D', 'all_Model_E',]\n",
    "color_dict_all={'all_Model_A'                   :color_map[\"df_covariates\"],\n",
    "            'all_Model_B'                   :color_map['df_diagnosis'],\n",
    "            'all_Model_C'                   :color_map[\"df_blood\"],\n",
    "            'all_Model_D'                   :color_map[\"df_snp\"],\n",
    "            'all_Model_E'                   :color_map['df_metabolomics'],}\n",
    "\n",
    "\n",
    "title_dict_all={'all_Model_A'                   :'Model A',\n",
    "            'all_Model_B'                   :'Model B',\n",
    "            'all_Model_C'                   :'Model C',\n",
    "            'all_Model_D'                   :'Model D',\n",
    "            'all_Model_E'                   :'Model E',}\n",
    "\n",
    "create_violin_plots(dataframes=dataframes, keys_ordered=keys_ordered_all, color_dict=color_dict_all, title_dict=title_dict_all, display=\"all_sex\", title_display=\"All\", inner_detail=\"quart\", n_cols=5, gap=0, split_by_sex=True, hue_column=\"true_cancerreg\")"
   ]
  },
  {
   "cell_type": "markdown",
   "metadata": {
    "heading_collapsed": true
   },
   "source": [
    "## All Models \"PAR\""
   ]
  },
  {
   "cell_type": "code",
   "execution_count": null,
   "metadata": {
    "hidden": true
   },
   "outputs": [],
   "source": [
    "keys_ordered_par=['par_Model_Demographics', 'par_Model_Diagnosis', 'par_Model_Blood', 'par_Model_SNP', 'par_Model_Metabolomics', 'par_Model_A', 'par_Model_B', 'par_Model_C','par_Model_D', 'par_Model_E']\n",
    "color_dict_par={'par_Model_A'                   :color_map[\"df_covariates\"],\n",
    "            'par_Model_B'                   :color_map['df_diagnosis'],\n",
    "            'par_Model_C'                   :color_map[\"df_blood\"],\n",
    "            'par_Model_D'                   :color_map[\"df_snp\"],\n",
    "            'par_Model_E'                   :color_map['df_metabolomics'],\n",
    "\n",
    "\n",
    "            'par_Model_Demographics'        :color_map[\"df_covariates\"],\n",
    "            'par_Model_Diagnosis'          :color_map[\"df_diagnosis\"],\n",
    "            'par_Model_Blood'               :color_map[\"df_blood\"],\n",
    "            'par_Model_SNP'                 :color_map['df_snp'],\n",
    "            'par_Model_Metabolomics'        :color_map['df_metabolomics']}\n",
    "\n",
    "title_dict_par={'par_Model_A'                   :'Model A',\n",
    "            'par_Model_B'                   :'Model B',\n",
    "            'par_Model_C'                   :'Model C',\n",
    "            'par_Model_D'                   :'Model D',\n",
    "            'par_Model_E'                   :'Model E',\n",
    "\n",
    "\n",
    "            'par_Model_Demographics'        :'Demographics',\n",
    "            'par_Model_Diagnosis'          :'Diagnosis',\n",
    "            'par_Model_Blood'               :'Blood',\n",
    "            'par_Model_SNP'                 :'Genomics',\n",
    "            'par_Model_Metabolomics'        :'Metabolomics'}\n",
    "\n",
    "\n",
    "create_violin_plots(dataframes=dataframes, keys_ordered=keys_ordered_par, color_dict=color_dict_par, title_dict=title_dict_par, title_display=\"Chronic Liver Disease\", display=\"par\", n_cols=10, gap=0, hue_column=\"true_cancerreg\")"
   ]
  },
  {
   "cell_type": "markdown",
   "metadata": {
    "heading_collapsed": true
   },
   "source": [
    "## Incremental \"PAR\""
   ]
  },
  {
   "cell_type": "code",
   "execution_count": null,
   "metadata": {
    "hidden": true
   },
   "outputs": [],
   "source": [
    "keys_ordered_par_sex=['par_Model_A', 'par_Model_B', 'par_Model_C','par_Model_D', 'par_Model_E']\n",
    "color_dict_par={'par_Model_A'                   :color_map[\"df_covariates\"],\n",
    "            'par_Model_B'                   :color_map['df_diagnosis'],\n",
    "            'par_Model_C'                   :color_map[\"df_blood\"],\n",
    "            'par_Model_D'                   :color_map[\"df_snp\"],\n",
    "            'par_Model_E'                   :color_map['df_metabolomics']\n",
    "            }\n",
    "\n",
    "\n",
    "title_dict_par={'par_Model_A'                   :'Model A',\n",
    "            'par_Model_B'                   :'Model B',\n",
    "            'par_Model_C'                   :'Model C',\n",
    "            'par_Model_D'                   :'Model D',\n",
    "            'par_Model_E'                   :'Model E',\n",
    "            }\n",
    "\n",
    "create_violin_plots(dataframes=dataframes, keys_ordered=keys_ordered_par_sex, color_dict=color_dict_par, title_dict=title_dict_par, display=\"par_inc\", title_display=\"Chronic Liver Disease\",n_cols=5, gap=0, split_by_sex=False)"
   ]
  },
  {
   "cell_type": "markdown",
   "metadata": {
    "heading_collapsed": true
   },
   "source": [
    "## PAR strat. SEX"
   ]
  },
  {
   "cell_type": "code",
   "execution_count": null,
   "metadata": {
    "hidden": true
   },
   "outputs": [],
   "source": [
    "keys_ordered_par_sex=['par_Model_A', 'par_Model_B', 'par_Model_C','par_Model_D', 'par_Model_E']\n",
    "color_dict_par={'par_Model_A'                   :color_map[\"df_covariates\"],\n",
    "            'par_Model_B'                   :color_map['df_diagnosis'],\n",
    "            'par_Model_C'                   :color_map[\"df_blood\"],\n",
    "            'par_Model_D'                   :color_map[\"df_snp\"],\n",
    "            'par_Model_E'                   :color_map['df_metabolomics']\n",
    "            }\n",
    "\n",
    "\n",
    "title_dict_par={'par_Model_A'                   :'Model A',\n",
    "            'par_Model_B'                   :'Model B',\n",
    "            'par_Model_C'                   :'Model C',\n",
    "            'par_Model_D'                   :'Model D',\n",
    "            'par_Model_E'                   :'Model E',\n",
    "            }\n",
    "\n",
    "create_violin_plots(dataframes=dataframes, keys_ordered=keys_ordered_par_sex, color_dict=color_dict_par, title_dict=title_dict_par, display=\"par_sex\", title_display=\"Chronic Liver Disease\",n_cols=5, gap=0, split_by_sex=True)"
   ]
  },
  {
   "cell_type": "markdown",
   "metadata": {},
   "source": [
    "## All Reduced Models + Benchmarking Literature Scores"
   ]
  },
  {
   "cell_type": "code",
   "execution_count": null,
   "metadata": {},
   "outputs": [],
   "source": [
    "keys_ordered_reduced=['all_Model_TOP75', 'all_Model_TOP30', 'all_Model_TOP15', 'all_Model_AMAP-RFC', 'all_aMAP']\n",
    "color_dict_all={\n",
    "    'all_aMAP' : '#808080',\n",
    "    'all_Model_AMAP-RFC': '#c9c9c9',\n",
    "    'all_Model_TOP75' : '#cb6043',\n",
    "    'all_Model_TOP30' : '#d1846e',\n",
    "    'all_Model_TOP15' : '#d0a79a'\n",
    "}\n",
    "\n",
    "title_dict_all={\n",
    "    'all_aMAP' : 'aMAP',\n",
    "    'all_Model_AMAP-RFC': 'aMAP RFC',\n",
    "    'all_Model_TOP75' : 'TOP75',\n",
    "    'all_Model_TOP30' : 'TOP30',\n",
    "    'all_Model_TOP15' : 'TOP15'\n",
    "}\n",
    "create_violin_plots(dataframes=dataframes, keys_ordered=keys_ordered_reduced, color_dict=color_dict_all, title_dict=title_dict_all, display=\"small_benchmark_all\", title_display=\"All\", inner_detail=\"quart\", n_cols=5, gap=0, hue_column=\"true\", font_size=24)"
   ]
  },
  {
   "cell_type": "markdown",
   "metadata": {},
   "source": [
    "##### Split by sex"
   ]
  },
  {
   "cell_type": "code",
   "execution_count": null,
   "metadata": {},
   "outputs": [],
   "source": [
    "keys_ordered_reduced=['all_Model_TOP75', 'all_Model_TOP30', 'all_Model_TOP15', 'all_Model_AMAP-RFC', 'all_aMAP']\n",
    "color_dict_all={\n",
    "    'all_aMAP' : '#808080',\n",
    "    'all_Model_AMAP-RFC': '#c9c9c9',\n",
    "    'all_Model_TOP75' : '#cb6043',\n",
    "    'all_Model_TOP30' : '#d1846e',\n",
    "    'all_Model_TOP15' : '#d0a79a',\n",
    "    \n",
    "}\n",
    "\n",
    "title_dict_all={\n",
    "    'all_aMAP' : 'aMAP',\n",
    "    'all_Model_AMAP-RFC': 'aMAP RFC',\n",
    "    'all_Model_TOP75' : 'TOP75',\n",
    "    'all_Model_TOP30' : 'TOP30',\n",
    "    'all_Model_TOP15' : 'TOP15',\n",
    "   \n",
    "}\n",
    "create_violin_plots(dataframes=dataframes, keys_ordered=keys_ordered_reduced, color_dict=color_dict_all, title_dict=title_dict_all, display=\"small_benchmark_all_strat\", title_display=\"All\", inner_detail=\"quart\", n_cols=5, gap=0, hue_column=\"true\", font_size=24, split_by_sex=True)"
   ]
  },
  {
   "cell_type": "markdown",
   "metadata": {},
   "source": [
    "##### Violins small models PAR"
   ]
  },
  {
   "cell_type": "code",
   "execution_count": null,
   "metadata": {},
   "outputs": [],
   "source": [
    "keys_ordered_reduced=['par_Model_C','par_Model_TOP75', 'par_Model_TOP30', 'par_Model_TOP15', 'par_Model_AMAP-RFC', 'par_aMAP']\n",
    "color_dict_par={\n",
    "    'par_Model_C': '#C13617',  # Color for scenario C (Covariates, Diagnosis, Blood)\n",
    "    'par_aMAP' : '#808080',\n",
    "    'par_Model_AMAP-RFC': '#c9c9c9',\n",
    "    'par_Model_TOP75' : '#cb6043',\n",
    "    'par_Model_TOP30' : '#d1846e',\n",
    "    'par_Model_TOP15' : '#d0a79a'\n",
    "}\n",
    "\n",
    "title_dict_par={\n",
    "    'par_Model_C': 'Model C',  # Color for scenario C (Covariates, Diagnosis, Blood)\n",
    "    'par_aMAP' : 'aMAP',\n",
    "    'par_Model_AMAP-RFC': 'aMAP RFC',\n",
    "    'par_Model_TOP75' : 'TOP75',\n",
    "    'par_Model_TOP30' : 'TOP30',\n",
    "    'par_Model_TOP15' : 'TOP15'\n",
    "}\n",
    "create_violin_plots(dataframes=dataframes, keys_ordered=keys_ordered_reduced, color_dict=color_dict_par, title_dict=title_dict_par, display=\"small_benchmark_par\", title_display=\"Patients at risk\", inner_detail=\"quart\", n_cols=6, gap=0, hue_column=\"true_cancerreg\")"
   ]
  },
  {
   "cell_type": "markdown",
   "metadata": {},
   "source": [
    "# Precision Recall Plots\n"
   ]
  },
  {
   "cell_type": "code",
   "execution_count": null,
   "metadata": {},
   "outputs": [],
   "source": [
    "import matplotlib.font_manager as fm\n",
    "\n",
    "def plot_precision_recall_curves(dataframes, keys_ordered, colors, fig, ax, display='', ylim=(0,1), fill_bet=False, title='', fig_path=None, line_style='-', dotted_keys=None, plot_legend=True, lw=2, font_size=16):\n",
    "    \"\"\"\n",
    "    Plots overlaying precision-recall curves for multiple datasets.\n",
    "\n",
    "    Parameters:\n",
    "    - dataframes (dict): Dictionary of dataframes containing columns 'proba' and 'true'.\n",
    "    - keys_ordered (list): List of keys in the order they should be plotted.\n",
    "    - colors (dict): Dictionary of colors corresponding to each key.\n",
    "    - fig (matplotlib.figure.Figure): Figure object to plot on.\n",
    "    - ax (matplotlib.axes.Axes): Axes object to plot on.\n",
    "    - display (str): Label for the display.\n",
    "    - fill_bet (bool): Whether to fill the area between the standard deviation bounds.\n",
    "    - title (str): Title of the plot.\n",
    "    - fig_path (str): Path to save the figure.\n",
    "    - line_style (str): Line style for the mean curve.\n",
    "    - dotted_keys (list): List of keys to be displayed with dotted lines.\n",
    "    \"\"\"\n",
    "\n",
    "    mean_precisions = []\n",
    "    base_recall = np.linspace(0, 1, 100)\n",
    "    if dotted_keys is None:\n",
    "        dotted_keys = []\n",
    "\n",
    "    for key in keys_ordered:\n",
    "        df = dataframes[key]\n",
    "        precision, recall, _ = precision_recall_curve(df['true'], df['proba'])\n",
    "        pr_auc = auc(recall, precision)\n",
    "\n",
    "        # Interpolation to remove increasing parts in precision\n",
    "        precision_inv = np.fliplr([precision])[0]\n",
    "        recall_inv = np.fliplr([recall])[0]\n",
    "        j = len(precision_inv) - 2\n",
    "        while j >= 0:\n",
    "            if precision_inv[j + 1] > precision_inv[j]:\n",
    "                precision_inv[j] = precision_inv[j + 1]\n",
    "            j -= 1\n",
    "\n",
    "        # Use the corrected precision for interpolation\n",
    "        decreasing_max_precision = np.maximum.accumulate(precision_inv[::-1])[::-1]\n",
    "        mean_precision = np.interp(base_recall, recall[::-1], decreasing_max_precision)\n",
    "        mean_precisions.append(mean_precision)\n",
    "\n",
    "        linestyle = '--' if key in dotted_keys else line_style\n",
    "        label = key.split('_')[-1]\n",
    "        ax.plot(recall, precision, alpha=1, lw=lw, linestyle=linestyle, color=colors[key], label=f'{label} ({pr_auc:.2f})')\n",
    "\n",
    "    fig.set_size_inches(5,4.1)\n",
    "\n",
    "    mean_precisions = np.array(mean_precisions)\n",
    "    mean_precision = mean_precisions.mean(axis=0)\n",
    "    std_precision = mean_precisions.std(axis=0)\n",
    "    pr_auc = auc(base_recall, mean_precision)\n",
    "\n",
    "    if fill_bet:\n",
    "        precision_upper = np.minimum(mean_precision + std_precision, 1)\n",
    "        precision_lower = mean_precision - std_precision\n",
    "        ax.fill_between(base_recall, precision_lower, precision_upper, color='grey', alpha=0.2)\n",
    "\n",
    "    ax.set_xlim([0.0, 1.0])\n",
    "    ax.set_ylim(ylim)\n",
    "    ax.tick_params(axis='both', which='major', pad=1)\n",
    "    ax.tick_params(axis='both', which='minor', pad=1)\n",
    "    ax.set_xlabel('Recall (TP / (TP + FN))', fontsize=font_size)\n",
    "    ax.set_ylabel('Precision (TP / (TP + FP))', fontsize=font_size)\n",
    "    #ax.xaxis.labelpad = -2\n",
    "    ax.xaxis.set_tick_params(pad=-5)\n",
    "    #ax.yaxis.labelpad = -2\n",
    "    ax.yaxis.set_tick_params(pad=-5)\n",
    "    ax.tick_params(axis='both', which='major', labelsize=font_size)\n",
    "    ax.set_title(f\"{title}: {display}\", fontsize=font_size, pad=5)\n",
    "\n",
    "    plt.rcParams.update({'font.size': font_size})\n",
    "\n",
    "    if plot_legend:\n",
    "        condensed_font = fm.FontProperties(family='sans-serif', style='normal', weight='normal', stretch='condensed')\n",
    "        ax.legend(loc=\"upper right\", bbox_to_anchor=(1.01, 1), fontsize=12, frameon=False, prop=condensed_font)\n",
    "\n",
    "    for spine in ax.spines.values():\n",
    "        spine.set_linewidth(0.8)  # Set the linewidth to 0.5, adjust as needed\n",
    "\n",
    "    svg_path = os.path.join(fig_path, f\"Prec_Recall_{display}_{ylim}.svg\")\n",
    "    fig.savefig(svg_path, format='svg', bbox_inches='tight', transparent=True)"
   ]
  },
  {
   "cell_type": "code",
   "execution_count": null,
   "metadata": {},
   "outputs": [],
   "source": [
    "def plot_precision_recall_curves(dataframes, keys_ordered, colors, fig, ax, display='', ylim=(0,1), fill_bet=False, title='', fig_path=None, line_style='-', dotted_keys=None, plot_legend=True, lw=2, font_size=16, stratify=None):\n",
    "    \"\"\"\n",
    "    Plots overlaying precision-recall curves for multiple datasets, with optional stratification.\n",
    "    \n",
    "    New parameter:\n",
    "    - stratify (dict): Dictionary with 'column' key specifying the column to stratify on.\n",
    "    \"\"\"\n",
    "    if dotted_keys is None:\n",
    "        dotted_keys = []\n",
    "    \n",
    "    line_styles = ['-', '--', ':', '-.']  # Different line styles for stratification\n",
    "    \n",
    "    for key in keys_ordered:\n",
    "        df = dataframes[key]\n",
    "        \n",
    "        if stratify:\n",
    "            column = stratify['column']\n",
    "            if column not in df.columns:\n",
    "                raise ValueError(f\"Column '{column}' not found in dataframe\")\n",
    "            \n",
    "            unique_values = df[column].unique()\n",
    "            for i, value in enumerate(unique_values):\n",
    "                mask = df[column] == value\n",
    "                subset_df = df[mask]\n",
    "                \n",
    "                precision, recall, _ = precision_recall_curve(subset_df['true'], subset_df['proba'])\n",
    "                pr_auc = auc(recall, precision)\n",
    "                \n",
    "                # Interpolation to remove increasing parts in precision\n",
    "                precision, recall = np.flip(precision), np.flip(recall)\n",
    "                precision = np.maximum.accumulate(precision)\n",
    "                precision, recall = np.flip(precision), np.flip(recall)\n",
    "                \n",
    "                label = f\"{key.split('_')[-1]} ({column}={value}, AUC={pr_auc:.2f})\"\n",
    "                linestyle = line_styles[i % len(line_styles)] if key not in dotted_keys else '--'\n",
    "                ax.plot(recall, precision, alpha=1, lw=lw, linestyle=linestyle, color=colors[key], label=label)\n",
    "        \n",
    "        else:\n",
    "            precision, recall, _ = precision_recall_curve(df['true'], df['proba'])\n",
    "            pr_auc = auc(recall, precision)\n",
    "            \n",
    "            # Interpolation to remove increasing parts in precision\n",
    "            precision, recall = np.flip(precision), np.flip(recall)\n",
    "            precision = np.maximum.accumulate(precision)\n",
    "            precision, recall = np.flip(precision), np.flip(recall)\n",
    "            \n",
    "            label = f\"{key.split('_')[-1]} (AUC={pr_auc:.2f})\"\n",
    "            linestyle = '--' if key in dotted_keys else line_style\n",
    "            ax.plot(recall, precision, alpha=1, lw=lw, linestyle=linestyle, color=colors[key], label=label)\n",
    "\n",
    "    fig.set_size_inches(5, 4.1)\n",
    "    ax.set_xlim([0.0, 1.0])\n",
    "    ax.set_ylim(ylim)\n",
    "    ax.tick_params(axis='both', which='major', pad=1)\n",
    "    ax.tick_params(axis='both', which='minor', pad=1)\n",
    "    ax.set_xlabel('Recall (TP / (TP + FN))', fontsize=font_size)\n",
    "    ax.set_ylabel('Precision (TP / (TP + FP))', fontsize=font_size)\n",
    "    ax.xaxis.set_tick_params(pad=-5)\n",
    "    ax.yaxis.set_tick_params(pad=-5)\n",
    "    ax.tick_params(axis='both', which='major', labelsize=font_size)\n",
    "    \n",
    "    strat_title = f\" (Stratified by {stratify['column']})\" if stratify else \"\"\n",
    "    ax.set_title(f\"{title}: {display}{strat_title}\", fontsize=font_size, pad=5)\n",
    "    \n",
    "    plt.rcParams.update({'font.size': font_size})\n",
    "    if plot_legend:\n",
    "        condensed_font = fm.FontProperties(family='sans-serif', style='normal', weight='normal', stretch='condensed')\n",
    "        ax.legend(loc=\"upper right\", bbox_to_anchor=(1.01, 1), fontsize=12, frameon=False, prop=condensed_font)\n",
    "    \n",
    "    for spine in ax.spines.values():\n",
    "        spine.set_linewidth(0.8)\n",
    "    \n",
    "    strat_suffix = f\"_{stratify['column']}\" if stratify else \"\"\n",
    "    svg_path = os.path.join(fig_path, f\"Prec_Recall_{display}_{ylim}{strat_suffix}.svg\")\n",
    "    fig.savefig(svg_path, format='svg', bbox_inches='tight', transparent=True)\n"
   ]
  },
  {
   "cell_type": "markdown",
   "metadata": {
    "heading_collapsed": true
   },
   "source": [
    "## All Incremental"
   ]
  },
  {
   "cell_type": "code",
   "execution_count": null,
   "metadata": {
    "hidden": true
   },
   "outputs": [],
   "source": [
    "scenarios_colors = {\n",
    "    'all_Model_A': '#4995AD',  # Color for scenario A (Covariates)\n",
    "    'all_Model_B': '#385579',  # Color for scenario B (Covariates, Diagnosis)\n",
    "    'all_Model_C': '#C13617',  # Color for scenario C (Covariates, Diagnosis, Blood)\n",
    "    'all_Model_D': '#F0903E',  # Color for scenario D (Covariates, Diagnosis, Blood, Genetics)\n",
    "    'all_Model_E': '#F0C872',  # Color for scenario E (Covariates, Diagnosis, Blood, Genetics, Metabolomics)\n",
    "    #'all_Model_Blood': '#C13617',\n",
    "    'all_aMAP' : '#808080'\n",
    "}\n",
    "\n",
    "\n",
    "keys_ordered_all=['all_Model_A', 'all_Model_B', 'all_Model_C','all_Model_D', 'all_Model_E', 'all_aMAP']\n",
    "# add desired models\n",
    "colors = {key: scenarios_colors[key] for key in keys_ordered_all}\n",
    "\n",
    "\n",
    "\n",
    "fig_all, ax_all = plt.subplots()\n",
    "\n",
    "plot_precision_recall_curves(dataframes, keys_ordered_all, colors, fig=fig_all, ax=ax_all, ylim=(0, 1), display= \"All\", fill_bet=False, title='Precision-Recall Curves', fig_path=fig_path, dotted_keys=(\"all_aMAP\"), font_size=12)\n",
    "plt.show()"
   ]
  },
  {
   "cell_type": "markdown",
   "metadata": {
    "hidden": true
   },
   "source": [
    "### All Incremental Zoom in"
   ]
  },
  {
   "cell_type": "code",
   "execution_count": null,
   "metadata": {
    "hidden": true
   },
   "outputs": [],
   "source": [
    "scenarios_colors = {\n",
    "    'all_Model_A': '#4995AD',  # Color for scenario A (Covariates)\n",
    "    'all_Model_B': '#385579',  # Color for scenario B (Covariates, Diagnosis)\n",
    "    'all_Model_C': '#C13617',  # Color for scenario C (Covariates, Diagnosis, Blood)\n",
    "    'all_Model_D': '#F0903E',  # Color for scenario D (Covariates, Diagnosis, Blood, Genetics)\n",
    "    'all_Model_E': '#F0C872',  # Color for scenario E (Covariates, Diagnosis, Blood, Genetics, Metabolomics)\n",
    "    #'all_Model_Blood': '#C13617',\n",
    "    'all_aMAP' : '#808080'\n",
    "}\n",
    "\n",
    "\n",
    "keys_ordered_all=['all_Model_A', 'all_Model_B', 'all_Model_C','all_Model_D', 'all_Model_E','all_aMAP']\n",
    "# add desired models\n",
    "colors = {key: scenarios_colors[key] for key in keys_ordered_all}\n",
    "\n",
    "\n",
    "\n",
    "fig_all, ax_all = plt.subplots()\n",
    "\n",
    "plot_precision_recall_curves(dataframes, keys_ordered_all, colors, fig=fig_all, ax=ax_all, ylim=(0, 0.2), display= \"All\", fill_bet=False, title='Precision-Recall Curves', fig_path=fig_path, dotted_keys=(\"all_aMAP\"), plot_legend=False, lw=3, font_size=16)\n",
    "plt.show()"
   ]
  },
  {
   "cell_type": "markdown",
   "metadata": {
    "heading_collapsed": true
   },
   "source": [
    "## PAR Incremental"
   ]
  },
  {
   "cell_type": "code",
   "execution_count": null,
   "metadata": {
    "hidden": true
   },
   "outputs": [],
   "source": [
    "scenarios_colors = {\n",
    "    'par_Model_A': '#4995AD',  # Color for scenario A (Covariates)\n",
    "    'par_Model_B': '#385579',  # Color for scenario B (Covariates, Diagnosis)\n",
    "    'par_Model_C': '#C13617',  # Color for scenario C (Covariates, Diagnosis, Blood)\n",
    "    'par_Model_D': '#F0903E',  # Color for scenario D (Covariates, Diagnosis, Blood, Genetics)\n",
    "    'par_Model_E': '#F0C872',  # Color for scenario E (Covariates, Diagnosis, Blood, Genetics, Metabolomics)\n",
    "    'par_aMAP' : '#808080'\n",
    "}\n",
    "\n",
    "\n",
    "keys_ordered_par=['par_Model_A', 'par_Model_B', 'par_Model_C','par_Model_D', 'par_Model_E', 'par_aMAP']\n",
    "colors = {key: scenarios_colors[key] for key in keys_ordered_par}\n",
    "\n",
    "fig_cld, ax_cld = plt.subplots()\n",
    "\n",
    "plot_precision_recall_curves(dataframes, keys_ordered_par, colors, fig=fig_cld, ax=ax_cld, display= \"Chronic Liver Disease\", ylim=(0, 1), fill_bet=False, title='Precision-Recall Curves', fig_path=fig_path, dotted_keys= \"par_aMAP\", lw=3, font_size=12)\n",
    "plt.show()"
   ]
  },
  {
   "cell_type": "markdown",
   "metadata": {
    "hidden": true
   },
   "source": [
    "### PAR Incremental Zoom In"
   ]
  },
  {
   "cell_type": "code",
   "execution_count": null,
   "metadata": {
    "hidden": true
   },
   "outputs": [],
   "source": [
    "scenarios_colors = {\n",
    "    'par_Model_A': '#4995AD',  # Color for scenario A (Covariates)\n",
    "    'par_Model_B': '#385579',  # Color for scenario B (Covariates, Diagnosis)\n",
    "    'par_Model_C': '#C13617',  # Color for scenario C (Covariates, Diagnosis, Blood)\n",
    "    'par_Model_D': '#F0903E',  # Color for scenario D (Covariates, Diagnosis, Blood, Genetics)\n",
    "    'par_Model_E': '#F0C872',  # Color for scenario E (Covariates, Diagnosis, Blood, Genetics, Metabolomics)\n",
    "    'par_amap' : '#808080'\n",
    "}\n",
    "\n",
    "\n",
    "keys_ordered_par=['par_Model_A', 'par_Model_B', 'par_Model_C','par_Model_D', 'par_Model_E', 'par_amap']\n",
    "colors = {key: scenarios_colors[key] for key in keys_ordered_par}\n",
    "\n",
    "fig_cld, ax_cld = plt.subplots()\n",
    "\n",
    "plot_precision_recall_curves(dataframes, keys_ordered_par, colors, fig=fig_cld, ax=ax_cld, display= \"PAR\", ylim=(0, 0.2), fill_bet=False, title='Precision-Recall Curves', fig_path=fig_path, dotted_keys= \"par_amap\", plot_legend=False, lw=3, font_size=16)\n",
    "plt.show()"
   ]
  },
  {
   "cell_type": "markdown",
   "metadata": {},
   "source": [
    "## All Reduced Models"
   ]
  },
  {
   "cell_type": "markdown",
   "metadata": {},
   "source": [
    "### All"
   ]
  },
  {
   "cell_type": "code",
   "execution_count": null,
   "metadata": {},
   "outputs": [],
   "source": [
    "keys_ordered_reduced=['all_Model_TOP75', 'all_Model_TOP30', 'all_Model_TOP15', 'all_Model_AMAP-RFC', 'all_aMAP']\n",
    "\n",
    "scenarios_colors = {\n",
    "    'all_aMAP' : '#808080',\n",
    "    'all_Model_AMAP-RFC': '#c9c9c9',\n",
    "    'all_Model_TOP75' : '#cb6043',\n",
    "    'all_Model_TOP30' : '#d1846e',\n",
    "    'all_Model_TOP15' : '#d0a79a'\n",
    "}\n",
    "\n",
    "\n",
    "# add desired models\n",
    "colors = {key: scenarios_colors[key] for key in keys_ordered_reduced}\n",
    "\n",
    "\n",
    "\n",
    "fig_all, ax_all = plt.subplots()\n",
    "\n",
    "plot_precision_recall_curves(dataframes, keys_ordered_reduced, colors, fig=fig_all, ax=ax_all, ylim=(0, 1), display= \"All - Reduced_models\", fill_bet=False, title='Precision-Recall Curves', fig_path=fig_path, dotted_keys=(\"all_amap\"), plot_legend=True, lw=3, font_size=12)\n",
    "plt.show()"
   ]
  },
  {
   "cell_type": "code",
   "execution_count": null,
   "metadata": {},
   "outputs": [],
   "source": [
    "keys_ordered_reduced=['all_Model_TOP75', 'all_Model_TOP30', 'all_Model_TOP15', 'all_Model_AMAP-RFC', 'all_aMAP']\n",
    "scenarios_colors = {\n",
    "    'all_aMAP' : '#808080',\n",
    "    'all_Model_AMAP-RFC': '#c9c9c9',\n",
    "    'all_Model_TOP75' : '#cb6043',\n",
    "    'all_Model_TOP30' : '#d1846e',\n",
    "    'all_Model_TOP15' : '#d0a79a'\n",
    "}\n",
    "colors = {key: scenarios_colors[key] for key in keys_ordered_reduced}\n",
    "\n",
    "# Without stratification\n",
    "fig_all, ax_all = plt.subplots()\n",
    "plot_precision_recall_curves(dataframes, keys_ordered_reduced, colors, fig=fig_all, ax=ax_all, ylim=(0, 1), display=\"All - Reduced_models\", fill_bet=False, title='Precision-Recall Curves', fig_path=fig_path, dotted_keys=(\"all_amap\"), plot_legend=True, lw=3, font_size=12)\n"
   ]
  },
  {
   "cell_type": "markdown",
   "metadata": {},
   "source": [
    "Closer view"
   ]
  },
  {
   "cell_type": "code",
   "execution_count": null,
   "metadata": {},
   "outputs": [],
   "source": [
    "keys_ordered_reduced=['all_Model_TOP75', 'all_Model_TOP30', 'all_Model_TOP15', 'all_Model_AMAP-RFC', 'all_aMAP']\n",
    "\n",
    "scenarios_colors = {\n",
    "    'all_aMAP' : '#808080',\n",
    "    'all_Model_AMAP-RFC': '#c9c9c9',\n",
    "    'all_Model_TOP75' : '#cb6043',\n",
    "    'all_Model_TOP30' : '#d1846e',\n",
    "    'all_Model_TOP15' : '#d0a79a'\n",
    "}\n",
    "\n",
    "\n",
    "# add desired models\n",
    "colors = {key: scenarios_colors[key] for key in keys_ordered_reduced}\n",
    "\n",
    "\n",
    "\n",
    "fig_all, ax_all = plt.subplots()\n",
    "\n",
    "plot_precision_recall_curves(dataframes, keys_ordered_reduced, colors, fig=fig_all, ax=ax_all, ylim=(0, 0.2), display= \"All - Reduced_models\", fill_bet=False, title='Precision-Recall Curves', fig_path=fig_path, dotted_keys=(\"all_amap\"), plot_legend=False, lw=3, font_size=16)\n",
    "plt.show()"
   ]
  },
  {
   "cell_type": "markdown",
   "metadata": {},
   "source": [
    "#### PAR"
   ]
  },
  {
   "cell_type": "code",
   "execution_count": null,
   "metadata": {},
   "outputs": [],
   "source": [
    "keys_ordered_reduced=['par_Model_C','par_Model_TOP75', 'par_Model_TOP30', 'par_Model_TOP15', 'par_Model_AMAP-RFC', 'par_aMAP']\n",
    "\n",
    "scenarios_colors = {\n",
    "    'par_Model_C': '#C13617',  # Color for scenario C (Covariates, Diagnosis, Blood)\n",
    "    'par_aMAP' : '#808080',\n",
    "    'par_Model_AMAP-RFC': '#c9c9c9',\n",
    "    'par_Model_TOP75' : '#cb6043',\n",
    "    'par_Model_TOP30' : '#d1846e',\n",
    "    'par_Model_TOP15' : '#d0a79a'\n",
    "}\n",
    "\n",
    "# add desired models\n",
    "colors = {key: scenarios_colors[key] for key in keys_ordered_reduced}\n",
    "\n",
    "\n",
    "\n",
    "fig_par, ax_par = plt.subplots()\n",
    "\n",
    "plot_precision_recall_curves(dataframes, keys_ordered_reduced, colors, fig=fig_par, ax=ax_par, ylim=(0, 1), display= \"Reduced_models\", fill_bet=False, title='Precision-Recall Curves', fig_path=fig_path, dotted_keys=(\"par_aMAP\"), plot_legend=True, lw=3, font_size=12)\n",
    "plt.show()"
   ]
  },
  {
   "cell_type": "code",
   "execution_count": null,
   "metadata": {},
   "outputs": [],
   "source": [
    "keys_ordered_reduced=['par_Model_C','par_Model_TOP75', 'par_Model_TOP30', 'par_Model_TOP15', 'par_Model_AMAP-RFC', 'par_amap']\n",
    "\n",
    "scenarios_colors = {\n",
    "    'par_Model_C': '#C13617',  # Color for scenario C (Covariates, Diagnosis, Blood)\n",
    "    'par_amap' : '#808080',\n",
    "    'par_Model_AMAP-RFC': '#c9c9c9',\n",
    "    'par_Model_TOP75' : '#cb6043',\n",
    "    'par_Model_TOP30' : '#d1846e',\n",
    "    'par_Model_TOP15' : '#d0a79a'\n",
    "}\n",
    "\n",
    "# add desired models\n",
    "colors = {key: scenarios_colors[key] for key in keys_ordered_reduced}\n",
    "\n",
    "\n",
    "\n",
    "fig_par, ax_par = plt.subplots()\n",
    "\n",
    "plot_precision_recall_curves(dataframes, keys_ordered_reduced, colors, fig=fig_par, ax=ax_par, ylim=(0, 0.2), display= \"Reduced_models\", fill_bet=False, title='Precision-Recall Curves', fig_path=fig_path, dotted_keys=(\"par_amap\"), plot_legend=False, lw=3, font_size=16)\n",
    "plt.show()"
   ]
  }
 ],
 "metadata": {
  "kernelspec": {
   "display_name": "Python 3",
   "language": "python",
   "name": "python3"
  },
  "language_info": {
   "codemirror_mode": {
    "name": "ipython",
    "version": 3
   },
   "file_extension": ".py",
   "mimetype": "text/x-python",
   "name": "python",
   "nbconvert_exporter": "python",
   "pygments_lexer": "ipython3",
   "version": "3.10.12"
  },
  "toc": {
   "base_numbering": 1,
   "nav_menu": {},
   "number_sections": true,
   "sideBar": true,
   "skip_h1_title": false,
   "title_cell": "Table of Contents",
   "title_sidebar": "Contents",
   "toc_cell": false,
   "toc_position": {},
   "toc_section_display": true,
   "toc_window_display": true
  }
 },
 "nbformat": 4,
 "nbformat_minor": 2
}
